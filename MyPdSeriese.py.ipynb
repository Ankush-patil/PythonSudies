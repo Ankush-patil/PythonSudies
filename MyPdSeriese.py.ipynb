{
 "cells": [
  {
   "cell_type": "markdown",
   "metadata": {},
   "source": [
    "import numpy as np\n",
    "import pandas as pd\n",
    "\n",
    "data = [ 1, 2, 3, 4]\n",
    "so=pd.Series(data)\n",
    "print('*'*60)\n",
    "print(\"Seriese:\")\n",
    "print(so)\n",
    "print('*'*60)\n",
    "print(\"with Index:\")\n",
    "index=['a','b','c','d']\n",
    "si=pd.Series(data,index)\n",
    "si"
   ]
  },
  {
   "cell_type": "code",
   "execution_count": 28,
   "metadata": {},
   "outputs": [
    {
     "data": {
      "text/plain": [
       "a        1\n",
       "b        2\n",
       "c        3\n",
       "5    hello\n",
       "d      5.6\n",
       "dtype: object"
      ]
     },
     "execution_count": 28,
     "metadata": {},
     "output_type": "execute_result"
    }
   ],
   "source": [
    "A=np.arange(4)\n",
    "pd.Series([1,2,3,'hello',5.6],['a','b','c',5,'d'])\n"
   ]
  },
  {
   "cell_type": "code",
   "execution_count": 32,
   "metadata": {},
   "outputs": [
    {
     "data": {
      "text/plain": [
       "1    0.387189\n",
       "2   -0.717463\n",
       "3   -0.633340\n",
       "4    1.153300\n",
       "5    1.548162\n",
       "dtype: float64"
      ]
     },
     "execution_count": 32,
     "metadata": {},
     "output_type": "execute_result"
    }
   ],
   "source": [
    "pd.Series(np.random.randn(5),[1,2,3,4,5])"
   ]
  },
  {
   "cell_type": "code",
   "execution_count": 34,
   "metadata": {},
   "outputs": [
    {
     "data": {
      "text/plain": [
       "Roll_NO           101\n",
       "Name           Ankush\n",
       "Education    Graduate\n",
       "dtype: object"
      ]
     },
     "execution_count": 34,
     "metadata": {},
     "output_type": "execute_result"
    }
   ],
   "source": [
    "dic = {'Roll_NO':101,\"Name\":'Ankush',\"Education\":\"Graduate\"}\n",
    "pd.Series(dic)"
   ]
  },
  {
   "cell_type": "code",
   "execution_count": 40,
   "metadata": {},
   "outputs": [
    {
     "name": "stdout",
     "output_type": "stream",
     "text": [
      "------------------------------------------------------------\n",
      "RollNo            101\n",
      "Name            Rahul\n",
      "Education    Graduate\n",
      "Qual              NaN\n",
      "dtype: object\n"
     ]
    }
   ],
   "source": [
    "data = { 'RollNo':101, \"Name\":\"Rahul\",\"Education\":\"Graduate\"}\n",
    "print(\"-\"*60)\n",
    "print(pd.Series(data,index=['RollNo',\"Name\",\"Education\",'Qual']))"
   ]
  },
  {
   "cell_type": "code",
   "execution_count": 42,
   "metadata": {},
   "outputs": [
    {
     "name": "stdout",
     "output_type": "stream",
     "text": [
      "s['a']: Print element at index a \n",
      " ------------------------------------------------------------ \n",
      " 10\n",
      "['b' in so]: Check index 'b' is present in list \n",
      " ------------------------------------------------------------ \n",
      " True\n",
      "True\n"
     ]
    }
   ],
   "source": [
    "import numpy as np\n",
    "import pandas as pd\n",
    "\n",
    "data = [ 10, 20, 30, 40, 50 ]\n",
    "index = ['a','b','c','d','e']\n",
    "so = pd.Series(data,index)\n",
    "print(\"s['a']: Print element at index a\",\"\\n\",'-'*60,\"\\n\",so['a'])\n",
    "print(\"['b' in so]: Check index 'b' is present in list\",\"\\n\",'-'*60,\"\\n\",'b' in so)\n",
    "print('c' in so)"
   ]
  },
  {
   "cell_type": "code",
   "execution_count": 55,
   "metadata": {},
   "outputs": [
    {
     "name": "stdout",
     "output_type": "stream",
     "text": [
      "a    14.0000\n",
      "b    25.0000\n",
      "c    13.9000\n",
      "d    12.9999\n",
      "e    17.0000\n",
      "dtype: float64\n",
      "a    aa\n",
      "b    bb\n",
      "c    cc\n",
      "d    dd\n",
      "e    ee\n",
      "dtype: object\n"
     ]
    }
   ],
   "source": [
    "s1 = [10,20,6.5,6.9999,8]\n",
    "s2 = [4,5,7.4,6,9.0]\n",
    "s3 = ['a','b','c','d','e']\n",
    "s4 = ['a','b','c','d','e']\n",
    "index = ['a','b','c','d','e']\n",
    "so1 = pd.Series(s1,index)\n",
    "so2 = pd.Series(s2,index)\n",
    "so3 = pd.Series(s3,index)\n",
    "so4 = pd.Series(s4,index)\n",
    "print(so1+so2)\n",
    "#print(so1+so4) will throw erorr.\n",
    "print(so3+so4)"
   ]
  },
  {
   "cell_type": "code",
   "execution_count": 60,
   "metadata": {},
   "outputs": [
    {
     "name": "stdout",
     "output_type": "stream",
     "text": [
      "a    0\n",
      "b    1\n",
      "c    2\n",
      "d    3\n",
      "e    4\n",
      "dtype: int32\n",
      "a    0\n",
      "b    1\n",
      "d    3\n",
      "e    4\n",
      "dtype: int32\n",
      "a    0\n",
      "b    1\n",
      "c    2\n",
      "d    3\n",
      "e    4\n",
      "dtype: int32\n"
     ]
    }
   ],
   "source": [
    "index = ['a','b','c','d','e']\n",
    "so = pd.Series(np.arange(5),index)\n",
    "print(so)\n",
    "so1 = so.drop('c')\n",
    "print(so1)\n",
    "print(so)"
   ]
  },
  {
   "cell_type": "code",
   "execution_count": 68,
   "metadata": {},
   "outputs": [
    {
     "name": "stdout",
     "output_type": "stream",
     "text": [
      "a    4\n",
      "b    5\n",
      "c   -3\n",
      "d    0\n",
      "e    1\n",
      "dtype: int64\n",
      "a    4.0\n",
      "b    5.0\n",
      "c    1.0\n",
      "d    2.0\n",
      "e    3.0\n",
      "dtype: float64\n"
     ]
    }
   ],
   "source": [
    "data = pd.Series([4,5,-3,0,1],index = ['a','b','c','d','e'])\n",
    "print(data)\n",
    "print(data.rank())\n",
    "#df=pd.DataFrame(data)\n",
    "#df['rnk']=data.rank()\n",
    "#df\"\"\""
   ]
  },
  {
   "cell_type": "code",
   "execution_count": 77,
   "metadata": {},
   "outputs": [
    {
     "name": "stdout",
     "output_type": "stream",
     "text": [
      "0    20\n",
      "1    40\n",
      "2    30\n",
      "3    10\n",
      "4    50\n",
      "dtype: int64\n",
      "1    40\n",
      "4    50\n",
      "dtype: int64\n",
      "median 30.0\n",
      "mean 30.0\n",
      "mean count     5.000000\n",
      "mean     30.000000\n",
      "std      15.811388\n",
      "min      10.000000\n",
      "25%      20.000000\n",
      "50%      30.000000\n",
      "75%      40.000000\n",
      "max      50.000000\n",
      "dtype: float64\n"
     ]
    },
    {
     "data": {
      "text/plain": [
       "0    20\n",
       "1    40\n",
       "2    30\n",
       "3    10\n",
       "4    50\n",
       "dtype: int64"
      ]
     },
     "execution_count": 77,
     "metadata": {},
     "output_type": "execute_result"
    }
   ],
   "source": [
    "data = [20,40,30,10,50]\n",
    "so = pd.Series(data)\n",
    "print(so)\n",
    "print(so[so > so.median()])\n",
    "print(\"median\",so.median())\n",
    "print(\"mean\",so.mean())\n",
    "print(\"mean\",so.describe())"
   ]
  },
  {
   "cell_type": "code",
   "execution_count": null,
   "metadata": {},
   "outputs": [],
   "source": []
  }
 ],
 "metadata": {
  "kernelspec": {
   "display_name": "Python 3",
   "language": "python",
   "name": "python3"
  },
  "language_info": {
   "codemirror_mode": {
    "name": "ipython",
    "version": 3
   },
   "file_extension": ".py",
   "mimetype": "text/x-python",
   "name": "python",
   "nbconvert_exporter": "python",
   "pygments_lexer": "ipython3",
   "version": "3.7.0"
  }
 },
 "nbformat": 4,
 "nbformat_minor": 2
}
