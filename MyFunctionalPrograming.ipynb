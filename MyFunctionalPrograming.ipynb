{
 "cells": [
  {
   "cell_type": "code",
   "execution_count": 1,
   "metadata": {},
   "outputs": [],
   "source": [
    "#Metacharacters\n",
    "#[] A set of characters\n",
    "#\\ Signals a special sequence (can also be used to escape special characters) \n",
    "#. Any character (except newline character)                                   \n",
    "#^ Starts with\n",
    "#$ Ends with \"world$\"\n",
    "#* Zero or more occurrences\n",
    "#+ One or more occurrences\n",
    "#{} Exactly the specified number of occurrences\n",
    "#| Either or\n",
    "#() Capture and group\n",
    "#\n",
    "#Special Sequences\n",
    "#\\A Returns a match if the specified characters are at the beginning of the string\n",
    "#\\b Returns a match where the specified characters are at the beginning or at the end of a word\n",
    "#\\B Returns a match where the specified characters are present, but NOT at the beginning (or at the end) of a word\n",
    "#\\d Returns a match where the string contains digits (numbers from 0-9)\n",
    "#\\D Returns a match where the string DOES NOT contain digits\n",
    "#\\s Returns a match where the string contains a white space character\n",
    "#\\S Returns a match where the string DOES NOT contain a white space character\n",
    "#\\w Returns a match where the string contains any word characters (characters from a to Z, digits from 0-9, and the underscore _ character)\n",
    "#\\W Returns a match where the string DOES NOT contain any word characters\n",
    "#\\Z Returns a match if the specified characters are at the end of the string\n",
    "#\n",
    "#Sets\n",
    "#[arn] Returns a match where one of the specified characters (a, r, or n) are present\n",
    "#[a-n] Returns a match for any lower case character, alphabetically between a and n\n",
    "#[^arn] Returns a match for any character EXCEPT a, r, and n\n",
    "#[0123] Returns a match where any of the specified digits (0, 1, 2, or 3) are present\n",
    "#[0-9] Returns a match for any digit between 0 and 9\n",
    "#[0-5][0-9] Returns a match for any two-digit numbers from 00 and 59\n",
    "#[a-zA-Z] Returns a match for any character alphabetically between a and z, lower case OR upper case\n",
    "import re"
   ]
  },
  {
   "cell_type": "code",
   "execution_count": 14,
   "metadata": {},
   "outputs": [
    {
     "data": {
      "text/plain": [
       "['foot', 'fell', 'fastest', 'f']"
      ]
     },
     "execution_count": 14,
     "metadata": {},
     "output_type": "execute_result"
    }
   ],
   "source": [
    "re.findall(r'\\bf[a-z]*', 'which foot or hand fell fastest f') "
   ]
  },
  {
   "cell_type": "code",
   "execution_count": 23,
   "metadata": {},
   "outputs": [
    {
     "data": {
      "text/plain": [
       "['the']"
      ]
     },
     "execution_count": 23,
     "metadata": {},
     "output_type": "execute_result"
    }
   ],
   "source": [
    "re.findall(r'(\\b[a-z]+) \\1', 'cat in the the the  hat') "
   ]
  },
  {
   "cell_type": "code",
   "execution_count": 24,
   "metadata": {},
   "outputs": [
    {
     "data": {
      "text/plain": [
       "'cat in the hat'"
      ]
     },
     "execution_count": 24,
     "metadata": {},
     "output_type": "execute_result"
    }
   ],
   "source": [
    "re.sub(r'(\\b[a-z]+) \\1', r'\\1', 'cat in the the hat') "
   ]
  },
  {
   "cell_type": "code",
   "execution_count": 25,
   "metadata": {},
   "outputs": [
    {
     "data": {
      "text/plain": [
       "['1', '2', '3', '1', '2']"
      ]
     },
     "execution_count": 25,
     "metadata": {},
     "output_type": "execute_result"
    }
   ],
   "source": [
    "re.findall(r'\\d', 'which123 foot1 or2 hand fell fastest f') "
   ]
  },
  {
   "cell_type": "code",
   "execution_count": 30,
   "metadata": {},
   "outputs": [
    {
     "name": "stdout",
     "output_type": "stream",
     "text": [
      "<re.Match object; span=(0, 33), match='This is regular expression string'>\n"
     ]
    }
   ],
   "source": [
    "str = \"This is regular expression string\"\n",
    "x = re.search(\"^This.*string$\", str) \n",
    "print(x)"
   ]
  },
  {
   "cell_type": "code",
   "execution_count": 32,
   "metadata": {},
   "outputs": [
    {
     "name": "stdout",
     "output_type": "stream",
     "text": [
      "The first white-space is at position: 4\n",
      "The first white-space is at position: 5\n"
     ]
    }
   ],
   "source": [
    "x = re.search(\"\\s\", str)\n",
    "print(\"The first white-space is at position:\",x.start()) \n",
    "print(\"The first white-space is at position:\",x.end()) "
   ]
  },
  {
   "cell_type": "code",
   "execution_count": 33,
   "metadata": {},
   "outputs": [
    {
     "name": "stdout",
     "output_type": "stream",
     "text": [
      "None\n"
     ]
    }
   ],
   "source": [
    "x = re.search(\"no match\", str)\n",
    "print(x) "
   ]
  },
  {
   "cell_type": "code",
   "execution_count": 40,
   "metadata": {},
   "outputs": [
    {
     "name": "stdout",
     "output_type": "stream",
     "text": [
      "['exp']\n",
      "[]\n"
     ]
    }
   ],
   "source": [
    "x = re.findall(r\"\\bexp\", str)\n",
    "y = re.findall(r\"exp/b\", str)\n",
    "print(x) \n",
    "print(y) "
   ]
  },
  {
   "cell_type": "code",
   "execution_count": 41,
   "metadata": {},
   "outputs": [
    {
     "name": "stdout",
     "output_type": "stream",
     "text": [
      "['This', 'is', 'regular', 'expression', 'string']\n"
     ]
    }
   ],
   "source": [
    "x = re.split(\"\\s\", str)\n",
    "print(x)"
   ]
  },
  {
   "cell_type": "code",
   "execution_count": 42,
   "metadata": {},
   "outputs": [
    {
     "name": "stdout",
     "output_type": "stream",
     "text": [
      "This-is-regular-expression-string\n"
     ]
    }
   ],
   "source": [
    "x = re.sub(\"\\s\", \"-\", str)\n",
    "print(x)"
   ]
  },
  {
   "cell_type": "code",
   "execution_count": 43,
   "metadata": {},
   "outputs": [
    {
     "data": {
      "text/plain": [
       "'tea for twotwo'"
      ]
     },
     "execution_count": 43,
     "metadata": {},
     "output_type": "execute_result"
    }
   ],
   "source": [
    "re.sub(r'(\\b[a-z]+) \\1', r'\\1', 'cat in the the t t hat')\n",
    "'tea for tootoo'.replace('too', 'two')"
   ]
  },
  {
   "cell_type": "code",
   "execution_count": 44,
   "metadata": {},
   "outputs": [
    {
     "name": "stdout",
     "output_type": "stream",
     "text": [
      "symdiffAB: {'h', 'b', 'z', 'g', 't', 'i'} size: 6\n",
      "symdiffBA: {'h', 'b', 'z', 'g', 't', 'i'} size: 6\n"
     ]
    }
   ],
   "source": [
    "setA = {'a', 'e', 'i', 'o', 'u', 'g', 'h'}\n",
    "setB = {'a', 'e', 'z', 'b', 't', 'o', 'u'}\n",
    "\n",
    "symdiffAB = setA^setB\n",
    "print(\"symdiffAB:\", symdiffAB, \"size:\", len(symdiffAB))\n",
    "symdiffBA = setB^setA\n",
    "print(\"symdiffBA:\", symdiffBA, \"size:\", len(symdiffBA))"
   ]
  },
  {
   "cell_type": "code",
   "execution_count": 102,
   "metadata": {},
   "outputs": [
    {
     "name": "stdout",
     "output_type": "stream",
     "text": [
      "Original List: [0, 1, 2, 3, 4, 5, 6, 7, 8, 9, 10, 11, 12, 13, 14]\n",
      "Even List By Function: [0, 2, 4, 6, 8, 10, 12, 14]\n",
      "Even List By ListComp: [0, 2, 4, 6, 8, 10, 12, 14]\n",
      "Even List By ListByLambda: [1, 3, 5, 7, 9, 11, 13]\n",
      "Even List By ListByLambdaMap: [True, False, True, False, True, False, True, False, True, False, True, False, True, False, True]\n"
     ]
    }
   ],
   "source": [
    "def get_evn(L):\n",
    "    e_list=[]\n",
    "    for i in L:\n",
    "        if (i%2 == 0):\n",
    "            e_list.append(i)\n",
    "    return(e_list)\n",
    "def main():\n",
    "    L=[i for i in range(15)]\n",
    "    print(\"Original List:\",L)\n",
    "    print(\"Even List By Function:\",get_evn(L))\n",
    "    elistByListComp = [i  for i in L if(i%2==0)]\n",
    "    print(\"Even List By ListComp:\",elistByListComp)\n",
    "    eListBylamda1 = list(filter((lambda x : x % 2),L))\n",
    "    print(\"Even List By ListByLambda:\",eListBylamda1)\n",
    "    e_lst_map = list (map ((lambda x : x % 2 == 0), L))\n",
    "    print(\"Even List By ListByLambdaMap:\",list(map((lambda x: x % 2 == 0),L)))\n",
    "main()"
   ]
  },
  {
   "cell_type": "code",
   "execution_count": 103,
   "metadata": {},
   "outputs": [
    {
     "name": "stdout",
     "output_type": "stream",
     "text": [
      "10\n",
      "24\n",
      "10\n",
      "24\n",
      "24\n",
      "[2, 6]\n",
      "[5, 4]\n",
      "Oringinal List: [0, 1, 2, 3, 4, 5, 6, 7, 8, 9, 10, 11, 12, 13, 14]\n",
      "[0, 10, 20, 30, 40, 50, 60, 70, 80, 90, 100, 110, 120, 130, 140]\n"
     ]
    }
   ],
   "source": [
    "from functools import reduce \n",
    "import operator \n",
    "print (reduce ((lambda x, y : x + y), [1,2,3,4]))\n",
    "print (reduce ((lambda x, y : x * y), [1,2,3,4]))\n",
    "print (reduce (operator.add, [1,2,3,4]))\n",
    "print (reduce (operator.mul, [1,2,3,4]))\n",
    "print (reduce (operator.imul, [1,2,3,4]))\n",
    "print (list(map ((lambda x, y : x * y), [1,2,3,4],[2,3])))\n",
    "print (list(map ((lambda x, y : x * y), [1,2,3,4],[5,2])))\n",
    "print(\"Oringinal List:\",L)\n",
    "print (list (map ((lambda x : x * 10), L)))"
   ]
  },
  {
   "cell_type": "code",
   "execution_count": 104,
   "metadata": {},
   "outputs": [
    {
     "name": "stdout",
     "output_type": "stream",
     "text": [
      "[1, 4, 9, 16, 1, 8, 27, 64, 1, 16, 81, 256, 1, 32, 243, 1024]\n"
     ]
    }
   ],
   "source": [
    "L = [powx (n)(x) for powx in \n",
    "                 [lambda n : (lambda x : x ** n)]\n",
    "                 for n in range (2,6)\n",
    "                 for x in range (1,5)]\n",
    "\n",
    "print (L) "
   ]
  },
  {
   "cell_type": "code",
   "execution_count": 106,
   "metadata": {},
   "outputs": [
    {
     "name": "stdout",
     "output_type": "stream",
     "text": [
      "list_sqr:L: [0, 1, 2, 3, 4]\n",
      "list_sqrt:L1: [0, 1, 4, 9, 16]\n",
      "lambdaSqr:L: [0, 1, 2, 3, 4]\n",
      "lambdaSqr:L2: [0, 1, 4, 9, 16]\n",
      "listCmp:L: [0, 1, 2, 3, 4]\n",
      "listCmp:L3: [0, 1, 4, 9, 16]\n"
     ]
    }
   ],
   "source": [
    "def list_sqr (L):\n",
    "    lst = [] \n",
    "    for x in L:\n",
    "        lst.append (x ** 2)\n",
    "    return (lst) \n",
    "\n",
    "def main ():\n",
    "    L = [x for x in range (5)] \n",
    "    L1 = list_sqrt (L) \n",
    "    print (\"list_sqr:L:\", L)\n",
    "    print (\"list_sqrt:L1:\", L1)\n",
    "    \n",
    "    L2 = list (map ((lambda x : x ** 2), L))\n",
    "    print (\"lambdaSqr:L:\", L) \n",
    "    print (\"lambdaSqr:L2:\", L2) \n",
    "\n",
    "    L3 = [x ** 2 for x in L]\n",
    "    print (\"listCmp:L:\", L) \n",
    "    print (\"listCmp:L3:\", L3)\n",
    "main () "
   ]
  },
  {
   "cell_type": "code",
   "execution_count": 127,
   "metadata": {},
   "outputs": [
    {
     "name": "stdout",
     "output_type": "stream",
     "text": [
      "Enter the input x1\n",
      "Enter the input y2\n",
      "Enter operation:[add/sub/mul]:add\n"
     ]
    },
    {
     "ename": "TypeError",
     "evalue": "map() must have at least two arguments.",
     "output_type": "error",
     "traceback": [
      "\u001b[1;31m---------------------------------------------------------------------------\u001b[0m",
      "\u001b[1;31mTypeError\u001b[0m                                 Traceback (most recent call last)",
      "\u001b[1;32m<ipython-input-127-6c89d1f866bd>\u001b[0m in \u001b[0;36m<module>\u001b[1;34m()\u001b[0m\n\u001b[0;32m     23\u001b[0m         \u001b[0mres\u001b[0m \u001b[1;33m=\u001b[0m \u001b[1;33m(\u001b[0m\u001b[0mD\u001b[0m\u001b[1;33m.\u001b[0m\u001b[0mget\u001b[0m \u001b[1;33m(\u001b[0m\u001b[0mops\u001b[0m\u001b[1;33m)\u001b[0m\u001b[1;33m)\u001b[0m \u001b[1;33m(\u001b[0m\u001b[0mmap\u001b[0m\u001b[1;33m(\u001b[0m\u001b[0mint\u001b[0m\u001b[1;33m(\u001b[0m\u001b[0mx\u001b[0m\u001b[1;33m)\u001b[0m\u001b[1;33m)\u001b[0m\u001b[1;33m,\u001b[0m\u001b[0mmap\u001b[0m\u001b[1;33m(\u001b[0m\u001b[0mint\u001b[0m\u001b[1;33m(\u001b[0m\u001b[0my\u001b[0m\u001b[1;33m)\u001b[0m\u001b[1;33m)\u001b[0m\u001b[1;33m)\u001b[0m\u001b[1;33m\u001b[0m\u001b[0m\n\u001b[0;32m     24\u001b[0m         \u001b[0mprint\u001b[0m \u001b[1;33m(\u001b[0m\u001b[0mn1\u001b[0m\u001b[1;33m,\u001b[0m \u001b[0mops\u001b[0m\u001b[1;33m,\u001b[0m \u001b[0mn2\u001b[0m\u001b[1;33m,\u001b[0m \u001b[0mres\u001b[0m\u001b[1;33m)\u001b[0m\u001b[1;33m\u001b[0m\u001b[0m\n\u001b[1;32m---> 25\u001b[1;33m \u001b[0mmain\u001b[0m\u001b[1;33m(\u001b[0m\u001b[1;33m)\u001b[0m\u001b[1;33m\u001b[0m\u001b[0m\n\u001b[0m",
      "\u001b[1;32m<ipython-input-127-6c89d1f866bd>\u001b[0m in \u001b[0;36mmain\u001b[1;34m()\u001b[0m\n\u001b[0;32m     21\u001b[0m         \u001b[0msys\u001b[0m\u001b[1;33m.\u001b[0m\u001b[0mexit\u001b[0m \u001b[1;33m(\u001b[0m\u001b[1;36m0\u001b[0m\u001b[1;33m)\u001b[0m\u001b[1;33m\u001b[0m\u001b[0m\n\u001b[0;32m     22\u001b[0m     \u001b[1;32melse\u001b[0m\u001b[1;33m:\u001b[0m\u001b[1;33m\u001b[0m\u001b[0m\n\u001b[1;32m---> 23\u001b[1;33m         \u001b[0mres\u001b[0m \u001b[1;33m=\u001b[0m \u001b[1;33m(\u001b[0m\u001b[0mD\u001b[0m\u001b[1;33m.\u001b[0m\u001b[0mget\u001b[0m \u001b[1;33m(\u001b[0m\u001b[0mops\u001b[0m\u001b[1;33m)\u001b[0m\u001b[1;33m)\u001b[0m \u001b[1;33m(\u001b[0m\u001b[0mmap\u001b[0m\u001b[1;33m(\u001b[0m\u001b[0mint\u001b[0m\u001b[1;33m(\u001b[0m\u001b[0mx\u001b[0m\u001b[1;33m)\u001b[0m\u001b[1;33m)\u001b[0m\u001b[1;33m,\u001b[0m\u001b[0mmap\u001b[0m\u001b[1;33m(\u001b[0m\u001b[0mint\u001b[0m\u001b[1;33m(\u001b[0m\u001b[0my\u001b[0m\u001b[1;33m)\u001b[0m\u001b[1;33m)\u001b[0m\u001b[1;33m)\u001b[0m\u001b[1;33m\u001b[0m\u001b[0m\n\u001b[0m\u001b[0;32m     24\u001b[0m         \u001b[0mprint\u001b[0m \u001b[1;33m(\u001b[0m\u001b[0mn1\u001b[0m\u001b[1;33m,\u001b[0m \u001b[0mops\u001b[0m\u001b[1;33m,\u001b[0m \u001b[0mn2\u001b[0m\u001b[1;33m,\u001b[0m \u001b[0mres\u001b[0m\u001b[1;33m)\u001b[0m\u001b[1;33m\u001b[0m\u001b[0m\n\u001b[0;32m     25\u001b[0m \u001b[0mmain\u001b[0m\u001b[1;33m(\u001b[0m\u001b[1;33m)\u001b[0m\u001b[1;33m\u001b[0m\u001b[0m\n",
      "\u001b[1;31mTypeError\u001b[0m: map() must have at least two arguments."
     ]
    }
   ],
   "source": [
    "def getInput():\n",
    "    try:\n",
    "        x=int(input(\"Enter the input x\"))\n",
    "        y=int(input(\"Enter the input y\"))\n",
    "    except:\n",
    "        print(\"Enter Valid Input \")\n",
    "        getInput()\n",
    "    finally:\n",
    "        return x,y\n",
    "def main():\n",
    "    getInput()     \n",
    "    D = {\n",
    "        'add':( lambda x,y: x + y ),\n",
    "        'mul':( lambda x,y: x * y )\n",
    "    }\n",
    "    print (\"Enter operation:[add/sub/mul]:\", end='')\n",
    "    ops = input () \n",
    "\n",
    "    if D.get (ops) == None:\n",
    "        print (\"Enter valid operation\") \n",
    "        sys.exit (0) \n",
    "    else:\n",
    "        res = (D.get (ops)) (x,y)\n",
    "        print (n1, ops, n2, res) \n",
    "main()"
   ]
  },
  {
   "cell_type": "code",
   "execution_count": 122,
   "metadata": {},
   "outputs": [
    {
     "name": "stdout",
     "output_type": "stream",
     "text": [
      "Enter the input x1\n",
      "<class 'int'>\n"
     ]
    }
   ],
   "source": [
    "x=int(input(\"Enter the input x\"))\n",
    "print(type(x))"
   ]
  },
  {
   "cell_type": "code",
   "execution_count": 129,
   "metadata": {},
   "outputs": [
    {
     "name": "stdout",
     "output_type": "stream",
     "text": [
      "[0, 1, 2, 3, 4, 5, 6, 7, 8, 9, 1, 2, 3, 4, 5, 6, 7, 8, 9, 10, 2, 3, 4, 5, 6, 7, 8, 9, 10, 11, 3, 4, 5, 6, 7, 8, 9, 10, 11, 12, 4, 5, 6, 7, 8, 9, 10, 11, 12, 13]\n",
      "[0, 0, 0, 0, 0, 0, 0, 0, 0, 0, 0, 1, 2, 3, 4, 5, 6, 7, 8, 9, 0, 2, 4, 6, 8, 10, 12, 14, 16, 18, 0, 3, 6, 9, 12, 15, 18, 21, 24, 27, 0, 4, 8, 12, 16, 20, 24, 28, 32, 36]\n",
      "[0, 1, 4, 9, 16, 0, 1, 8, 27, 64, 0, 1, 16, 81, 256]\n",
      "['SH', 'SA', 'SM', 'PH', 'PA', 'PM', 'AH', 'AA', 'AM', 'MH', 'MA', 'MM']\n",
      "[(0, 1), (0, 3), (0, 5), (0, 7), (0, 9), (2, 1), (2, 3), (2, 5), (2, 7), (2, 9), (4, 1), (4, 3), (4, 5), (4, 7), (4, 9), (6, 1), (6, 3), (6, 5), (6, 7), (6, 9), (8, 1), (8, 3), (8, 5), (8, 7), (8, 9)]\n"
     ]
    }
   ],
   "source": [
    "def main ():\n",
    "    L1 = [x + y for x in range (5) for y in range (10)]\n",
    "    print (L1) \n",
    "    L2 = [x * y for x in range (5)\n",
    "                for y in range (10)] \n",
    "    print (L2) \n",
    "    \n",
    "    L = [lambda x : x ** 2, lambda x : x ** 3, lambda x : x ** 4] \n",
    "    \n",
    "    L3 = [x(y) for x in L\n",
    "               for y in range (5)] \n",
    "    print (L3)\n",
    "\n",
    "    L4 = [x + y for x in 'SPAM' \n",
    "                for y in 'HAM'] \n",
    "    print (L4) \n",
    "\n",
    "    L5 = [(x, y) for x in range (10) if x % 2 == 0\n",
    "                 for y in range (10) if y % 2 == 1] \n",
    "    print (L5) \n",
    "\n",
    "main ()\n"
   ]
  },
  {
   "cell_type": "code",
   "execution_count": 136,
   "metadata": {},
   "outputs": [
    {
     "name": "stdout",
     "output_type": "stream",
     "text": [
      "[0, 2, 4, 6, 8, 10, 12, 14, 16, 18, 20, 22, 24, 26, 28, 30, 32, 34, 36, 38, 40, 42, 44, 46, 48, 50, 52, 54, 56, 58, 60, 62, 64, 66, 68, 70, 72, 74, 76, 78, 80, 82, 84, 86, 88, 90, 92, 94, 96, 98]\n",
      "[0, 2, 4, 6, 8, 10, 12, 14, 16, 18, 20, 22, 24, 26, 28, 30, 32, 34, 36, 38, 40, 42, 44, 46, 48, 50, 52, 54, 56, 58, 60, 62, 64, 66, 68, 70, 72, 74, 76, 78, 80, 82, 84, 86, 88, 90, 92, 94, 96, 98]\n"
     ]
    }
   ],
   "source": [
    "#! /usr/bin/python3 \n",
    "\n",
    "def my_filter (cond, L):\n",
    "    \"\"\"if str (type (cond)) != \"<class 'function'>\":\n",
    "        raise TypeError (\"cond should be of type <class 'function'> but is of\", \n",
    "                          type (cond))\n",
    "    if type (L) != list:\n",
    "        raise TypeError (\"L should be of type list but is of\", type (L))\"\"\"\n",
    "    res = [] \n",
    "    for x in L:\n",
    "        if cond (x) == True:\n",
    "            res.append (x) \n",
    "    return res \n",
    "\n",
    "def is_even (x):\n",
    "    return (x % 2 == 0)\n",
    "\n",
    "def main ():\n",
    "    L = my_filter (is_even, [x for x in range (100)])\n",
    "    print (L) \n",
    "    \n",
    "    print (list (filter (is_even, [x for x in range (100)])))\n",
    "\n",
    "main ()"
   ]
  },
  {
   "cell_type": "code",
   "execution_count": 141,
   "metadata": {},
   "outputs": [
    {
     "name": "stdout",
     "output_type": "stream",
     "text": [
      "[10, 11, 12, 13, 14, 15, 16, 17, 18, 19]\n",
      "[10, 11, 12, 13, 14, 15, 16, 17, 18, 19]\n"
     ]
    }
   ],
   "source": [
    "\n",
    "def my_map (ops, L):\n",
    "    \"\"\"if (str (type (ops)) != \"<class 'function'>\"):\n",
    "        raise TypeError (\"ops should be of type function but is of type\", type (ops))\n",
    "    if (type (L) != list):\n",
    "        raise TypeError (\"L should be of type list but is of type\", type (L))\"\"\"\n",
    "    res = [] \n",
    "    for x in L: \n",
    "        res.append (ops (x))\n",
    "    return res\n",
    "\n",
    "def add (x):\n",
    "    return (x+10)\n",
    "\n",
    "def main ():\n",
    "    L = my_map (add, [x for x in range (10)])\n",
    "    print (list (map ((lambda x: x + 10), [x for x in range (10)]))) \n",
    "main ()\n"
   ]
  },
  {
   "cell_type": "code",
   "execution_count": 163,
   "metadata": {},
   "outputs": [
    {
     "name": "stdout",
     "output_type": "stream",
     "text": [
      "By Comprhension: [0, 1, 2, 3, 5, 7, 11, 13, 17, 19, 23, 29, 31, 37, 41, 43, 47, 53, 59, 61, 67, 71, 73, 79, 83, 89, 97]\n",
      "By Filter: [0, 1, 2, 3, 5, 7, 11, 13, 17, 19, 23, 29, 31, 37, 41, 43, 47, 53, 59, 61, 67, 71, 73, 79, 83, 89, 97]\n",
      "tupule for sum 50: [(0, 50), (1, 49), (2, 48), (3, 47), (4, 46), (5, 45), (6, 44), (7, 43), (8, 42), (9, 41), (10, 40), (11, 39), (12, 38), (13, 37), (14, 36), (15, 35), (16, 34), (17, 33), (18, 32), (19, 31), (20, 30), (21, 29), (22, 28), (23, 27), (24, 26), (25, 25), (26, 24), (27, 23), (28, 22), (29, 21), (30, 20), (31, 19), (32, 18), (33, 17), (34, 16), (35, 15), (36, 14), (37, 13), (38, 12), (39, 11), (40, 10), (41, 9), (42, 8), (43, 7), (44, 6), (45, 5), (46, 4), (47, 3), (48, 2), (49, 1), (50, 0)]\n",
      "tupule for sum 50: [{0: 5}, {1: 4}, {2: 3}, {3: 2}, {4: 1}, {5: 0}]\n",
      "key= 0 vaule= 5\n",
      "key= 1 vaule= 4\n",
      "key= 2 vaule= 3\n",
      "key= 3 vaule= 2\n",
      "key= 4 vaule= 1\n",
      "key= 5 vaule= 0\n"
     ]
    }
   ],
   "source": [
    "import sys\n",
    "import math\n",
    "\n",
    "def is_prime (p):\n",
    "    n = math.floor (math.sqrt (p))\n",
    "    for i in range (1, n+1):\n",
    "        if p % i == 0 :\n",
    "            if i != 1 and i != p:\n",
    "                return False\n",
    "    return (True)\n",
    "    \n",
    "def main ():\n",
    "    L = [x for x in range (100) if is_prime (x) == True]\n",
    "    print (\"By Comprhension:\",L) \n",
    "    \n",
    "    L1 = list (filter (is_prime, [x for x in range (100)]))\n",
    "    print (\"By Filter:\",L1) \n",
    "\n",
    "    L2 = [(x,y) for x in range (100) \n",
    "                for y in range (100) if x + y == 50]\n",
    "    print (\"tupule for sum 50:\",L2)   \n",
    "\n",
    "    L2 = [{x:y} for x in range (100) \n",
    "                for y in range (100) if x + y == 5]\n",
    "    print (\"tupule for sum 50:\",L2)\n",
    "    \n",
    "    for i in L2:\n",
    "        for j,k in i.items():\n",
    "            print(\"key=\",j,\"vaule=\",k)\n",
    "\n",
    "main ()\n",
    "\n"
   ]
  },
  {
   "cell_type": "code",
   "execution_count": 158,
   "metadata": {},
   "outputs": [
    {
     "name": "stdout",
     "output_type": "stream",
     "text": [
      "{1: 2} 1\n"
     ]
    }
   ],
   "source": [
    "i={1:2}\n",
    "for j,k in i.items():\n",
    "            print(i,j)"
   ]
  },
  {
   "cell_type": "code",
   "execution_count": 164,
   "metadata": {},
   "outputs": [
    {
     "name": "stdout",
     "output_type": "stream",
     "text": [
      "L_sum_all: 15\n",
      "L_mul_all: 120\n",
      "120 15\n"
     ]
    }
   ],
   "source": [
    "from functools import reduce \n",
    "\n",
    "def mul_all (L):\n",
    "    mul = 1\n",
    "    for x in L:\n",
    "        mul = mul * x\n",
    "    return (mul)\n",
    "\n",
    "def sum_all (L):\n",
    "    sum_a = 0 \n",
    "    for x in L:\n",
    "        sum_a = sum_a + x\n",
    "    return (sum_a) \n",
    "\n",
    "L1 = [x for x in range (1,6)] \n",
    "\n",
    "L_sum_all = reduce ((lambda x, y : x + y), L1)\n",
    "L_mul_all = reduce ((lambda x, y : x * y), L1)\n",
    "\n",
    "print (\"L_sum_all:\", L_sum_all) \n",
    "print (\"L_mul_all:\", L_mul_all) \n",
    "\n",
    "x = mul_all (L1) \n",
    "y = sum_all (L1) \n",
    "\n",
    "print (x, y)"
   ]
  },
  {
   "cell_type": "code",
   "execution_count": null,
   "metadata": {},
   "outputs": [],
   "source": []
  }
 ],
 "metadata": {
  "kernelspec": {
   "display_name": "Python 3",
   "language": "python",
   "name": "python3"
  },
  "language_info": {
   "codemirror_mode": {
    "name": "ipython",
    "version": 3
   },
   "file_extension": ".py",
   "mimetype": "text/x-python",
   "name": "python",
   "nbconvert_exporter": "python",
   "pygments_lexer": "ipython3",
   "version": "3.7.0"
  }
 },
 "nbformat": 4,
 "nbformat_minor": 2
}
